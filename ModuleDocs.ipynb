{
 "cells": [
  {
   "cell_type": "markdown",
   "metadata": {},
   "source": [
    "### Oveview\n",
    "\n",
    "This notebook extracts the contents of a a module and scans for functions. It extracts docstrings and writes them to a spreadsheet. "
   ]
  },
  {
   "cell_type": "code",
   "execution_count": 1,
   "metadata": {},
   "outputs": [],
   "source": [
    "import pkgutil"
   ]
  },
  {
   "cell_type": "code",
   "execution_count": 3,
   "metadata": {},
   "outputs": [],
   "source": [
    "L = pkgutil.find_loader('pandas')"
   ]
  },
  {
   "cell_type": "code",
   "execution_count": 4,
   "metadata": {},
   "outputs": [
    {
     "data": {
      "text/plain": [
       "'/anaconda3/lib/python3.6/site-packages/pandas/__init__.py'"
      ]
     },
     "execution_count": 4,
     "metadata": {},
     "output_type": "execute_result"
    }
   ],
   "source": [
    "L.path"
   ]
  },
  {
   "cell_type": "code",
   "execution_count": 8,
   "metadata": {},
   "outputs": [
    {
     "data": {
      "text/plain": [
       "[]"
      ]
     },
     "execution_count": 8,
     "metadata": {},
     "output_type": "execute_result"
    }
   ],
   "source": [
    "list(pkgutil.iter_modules([L.get_filename()]))"
   ]
  },
  {
   "cell_type": "code",
   "execution_count": 49,
   "metadata": {},
   "outputs": [],
   "source": [
    "m = __import__('matplotlib')"
   ]
  },
  {
   "cell_type": "code",
   "execution_count": 51,
   "metadata": {},
   "outputs": [
    {
     "name": "stdout",
     "output_type": "stream",
     "text": [
      "matplotlib._animation_data\n",
      "matplotlib._cm\n",
      "matplotlib._cm_listed\n",
      "matplotlib._color_data\n",
      "matplotlib._constrained_layout\n",
      "matplotlib._contour\n",
      "matplotlib._image\n",
      "matplotlib._layoutbox\n",
      "matplotlib._mathtext_data\n",
      "matplotlib._path\n",
      "matplotlib._png\n",
      "matplotlib._pylab_helpers\n",
      "matplotlib._qhull\n",
      "matplotlib._tri\n",
      "matplotlib._version\n",
      "matplotlib.afm\n",
      "matplotlib.animation\n",
      "matplotlib.artist\n",
      "matplotlib.axes\n",
      "matplotlib.axes._axes\n",
      "matplotlib.axes._base\n",
      "matplotlib.axes._subplots\n",
      "matplotlib.axis\n",
      "matplotlib.backend_bases\n",
      "matplotlib.backend_managers\n",
      "matplotlib.backend_tools\n",
      "matplotlib.backends\n",
      "matplotlib.backends._backend_agg\n",
      "matplotlib.backends._backend_tk\n",
      "matplotlib.backends._gtk3_compat\n",
      "matplotlib.backends._macosx\n",
      "matplotlib.backends._tkagg\n",
      "matplotlib.backends.backend_agg\n",
      "matplotlib.backends.backend_cairo\n",
      "matplotlib.backends.backend_gdk\n",
      "matplotlib.backends.backend_gtk\n",
      "matplotlib.backends.backend_gtk3\n",
      "matplotlib.backends.backend_gtk3agg\n",
      "matplotlib.backends.backend_gtk3cairo\n",
      "matplotlib.backends.backend_gtkagg\n",
      "matplotlib.backends.backend_gtkcairo\n",
      "matplotlib.backends.backend_macosx\n",
      "matplotlib.backends.backend_mixed\n",
      "matplotlib.backends.backend_nbagg\n",
      "matplotlib.backends.backend_pdf\n",
      "matplotlib.backends.backend_pgf\n",
      "matplotlib.backends.backend_ps\n",
      "matplotlib.backends.backend_qt4\n",
      "matplotlib.backends.backend_qt4agg\n",
      "matplotlib.backends.backend_qt4cairo\n",
      "matplotlib.backends.backend_qt5\n",
      "matplotlib.backends.backend_qt5agg\n",
      "matplotlib.backends.backend_qt5cairo\n",
      "matplotlib.backends.backend_svg\n",
      "matplotlib.backends.backend_template\n",
      "matplotlib.backends.backend_tkagg\n",
      "matplotlib.backends.backend_tkcairo\n",
      "matplotlib.backends.backend_webagg\n",
      "matplotlib.backends.backend_webagg_core\n",
      "matplotlib.backends.backend_wx\n",
      "matplotlib.backends.backend_wxagg\n",
      "matplotlib.backends.backend_wxcairo\n",
      "matplotlib.backends.qt_compat\n",
      "matplotlib.backends.qt_editor\n",
      "matplotlib.backends.qt_editor.figureoptions\n",
      "matplotlib.backends.qt_editor.formlayout\n",
      "matplotlib.backends.qt_editor.formsubplottool\n",
      "matplotlib.backends.tkagg\n",
      "matplotlib.backends.windowing\n",
      "matplotlib.backends.wx_compat\n",
      "matplotlib.bezier\n",
      "matplotlib.blocking_input\n",
      "matplotlib.category\n",
      "matplotlib.cbook\n",
      "matplotlib.cbook._backports\n",
      "matplotlib.cbook.deprecation\n",
      "matplotlib.cm\n",
      "matplotlib.collections\n",
      "matplotlib.colorbar\n",
      "matplotlib.colors\n",
      "matplotlib.compat\n",
      "matplotlib.compat.subprocess\n",
      "matplotlib.container\n",
      "matplotlib.contour\n",
      "matplotlib.dates\n",
      "matplotlib.docstring\n",
      "matplotlib.dviread\n",
      "matplotlib.figure\n",
      "matplotlib.font_manager\n",
      "matplotlib.fontconfig_pattern\n",
      "matplotlib.ft2font\n",
      "matplotlib.gridspec\n",
      "matplotlib.hatch\n",
      "matplotlib.image\n",
      "matplotlib.legend\n",
      "matplotlib.legend_handler\n",
      "matplotlib.lines\n",
      "matplotlib.markers\n",
      "matplotlib.mathtext\n",
      "matplotlib.mlab\n",
      "matplotlib.offsetbox\n",
      "matplotlib.patches\n",
      "matplotlib.path\n",
      "matplotlib.patheffects\n",
      "matplotlib.projections\n",
      "matplotlib.projections.geo\n",
      "matplotlib.projections.polar\n",
      "matplotlib.pylab\n",
      "matplotlib.pyplot\n",
      "matplotlib.quiver\n",
      "matplotlib.rcsetup\n",
      "matplotlib.sankey\n",
      "matplotlib.scale\n",
      "matplotlib.sphinxext\n",
      "matplotlib.sphinxext.mathmpl\n",
      "matplotlib.sphinxext.only_directives\n",
      "matplotlib.sphinxext.plot_directive\n",
      "matplotlib.spines\n",
      "matplotlib.stackplot\n",
      "matplotlib.streamplot\n",
      "matplotlib.style\n",
      "matplotlib.style.core\n",
      "matplotlib.table\n",
      "matplotlib.testing\n",
      "matplotlib.testing._nose\n",
      "matplotlib.testing._nose.decorators\n",
      "matplotlib.testing._nose.exceptions\n",
      "matplotlib.testing._nose.plugins\n",
      "matplotlib.testing._nose.plugins.knownfailure\n",
      "matplotlib.testing._nose.plugins.performgc\n",
      "matplotlib.testing.compare\n",
      "matplotlib.testing.conftest\n",
      "matplotlib.testing.decorators\n",
      "matplotlib.testing.determinism\n",
      "matplotlib.testing.disable_internet\n",
      "matplotlib.testing.exceptions\n",
      "matplotlib.testing.jpl_units\n",
      "matplotlib.testing.jpl_units.Duration\n",
      "matplotlib.testing.jpl_units.Epoch\n",
      "matplotlib.testing.jpl_units.EpochConverter\n",
      "matplotlib.testing.jpl_units.StrConverter\n",
      "matplotlib.testing.jpl_units.UnitDbl\n",
      "matplotlib.testing.jpl_units.UnitDblConverter\n",
      "matplotlib.testing.jpl_units.UnitDblFormatter\n",
      "matplotlib.testing.noseclasses\n",
      "matplotlib.texmanager\n",
      "matplotlib.text\n",
      "matplotlib.textpath\n",
      "matplotlib.ticker\n",
      "matplotlib.tight_bbox\n",
      "matplotlib.tight_layout\n",
      "matplotlib.transforms\n",
      "matplotlib.tri\n",
      "matplotlib.tri.triangulation\n",
      "matplotlib.tri.tricontour\n",
      "matplotlib.tri.trifinder\n",
      "matplotlib.tri.triinterpolate\n",
      "matplotlib.tri.tripcolor\n",
      "matplotlib.tri.triplot\n",
      "matplotlib.tri.trirefine\n",
      "matplotlib.tri.tritools\n",
      "matplotlib.ttconv\n",
      "matplotlib.type1font\n",
      "matplotlib.units\n",
      "matplotlib.widgets\n"
     ]
    }
   ],
   "source": [
    "for importer, name, ispkg in pkgutil.walk_packages(m.__path__, prefix = m.__name__ + '.'):\n",
    "    print(name)"
   ]
  },
  {
   "cell_type": "code",
   "execution_count": null,
   "metadata": {},
   "outputs": [],
   "source": [
    "from pandas.tslib."
   ]
  },
  {
   "cell_type": "code",
   "execution_count": 37,
   "metadata": {},
   "outputs": [
    {
     "data": {
      "text/plain": [
       "FileFinder('/anaconda3/lib/python3.6/site-packages/pandas')"
      ]
     },
     "execution_count": 37,
     "metadata": {},
     "output_type": "execute_result"
    }
   ],
   "source": [
    "next(pkgutil.iter_modules(m.__path__)).module_finder"
   ]
  },
  {
   "cell_type": "code",
   "execution_count": 40,
   "metadata": {},
   "outputs": [],
   "source": [
    "loader = pkgutil.get_loader('pandas.tseries')"
   ]
  },
  {
   "cell_type": "code",
   "execution_count": 46,
   "metadata": {},
   "outputs": [
    {
     "data": {
      "text/plain": [
       "\u001b[0;31mSignature:\u001b[0m \u001b[0mloader\u001b[0m\u001b[0;34m.\u001b[0m\u001b[0mis_package\u001b[0m\u001b[0;34m(\u001b[0m\u001b[0mfullname\u001b[0m\u001b[0;34m)\u001b[0m\u001b[0;34m\u001b[0m\u001b[0m\n",
       "\u001b[0;31mDocstring:\u001b[0m\n",
       "Concrete implementation of InspectLoader.is_package by checking if\n",
       "the path returned by get_filename has a filename of '__init__.py'.\n",
       "\u001b[0;31mFile:\u001b[0m      ~/Google Drive/notebooks/<frozen importlib._bootstrap_external>\n",
       "\u001b[0;31mType:\u001b[0m      method\n"
      ]
     },
     "metadata": {},
     "output_type": "display_data"
    }
   ],
   "source": [
    "loader.is_package?"
   ]
  },
  {
   "cell_type": "code",
   "execution_count": 13,
   "metadata": {},
   "outputs": [],
   "source": [
    "import inspect"
   ]
  },
  {
   "cell_type": "code",
   "execution_count": 27,
   "metadata": {},
   "outputs": [
    {
     "name": "stdout",
     "output_type": "stream",
     "text": [
      "bdate_range:  \n",
      "concat:  \n",
      "crosstab:  \n",
      "cut:  \n",
      "date_range:  \n",
      "eval:  Evaluate a Python expression as a string using various backends.\n",
      "factorize:  \n",
      "get_dummies:  \n",
      "get_store:   Backwards compatible alias for ``HDFStore``\n",
      "infer_freq:  \n",
      "interval_range:  \n",
      "isna:  \n",
      "isna:  \n",
      "lreshape:  \n",
      "melt:  \n",
      "merge:  \n",
      "merge_asof:  Perform an asof merge. This is similar to a left-join except that we\n",
      "merge_ordered:  Perform merge with optional filling/interpolation designed for ordered\n",
      "notna:  \n",
      "notna:  \n",
      "period_range:  \n",
      "pivot_simple:  \n",
      "pivot_table:  \n",
      "qcut:  \n",
      "read_clipboard:  \n",
      "_make_parser_function.<locals>.parser_f:  \n",
      "read_excel:  \n",
      "read_feather:  \n",
      "read_fwf:  \n",
      "read_gbq:  \n",
      "read_hdf:  \n",
      "read_html:  Read HTML tables into a ``list`` of ``DataFrame`` objects.\n",
      "read_json:  \n",
      "read_msgpack:  \n",
      "read_parquet:  \n",
      "read_pickle:  \n",
      "read_sas:  \n",
      "read_sql:  \n",
      "read_sql_query:  Read SQL query into a DataFrame.\n",
      "read_sql_table:  Read SQL database table into a DataFrame.\n",
      "read_stata:  \n",
      "_make_parser_function.<locals>.parser_f:  \n",
      "scatter_matrix:  \n",
      "set_eng_float_format:  \n",
      "timedelta_range:  \n",
      "to_datetime:  \n",
      "to_msgpack:  \n",
      "to_numeric:  \n",
      "to_pickle:  \n",
      "to_timedelta:  \n",
      "unique:  \n",
      "value_counts:  \n",
      "wide_to_long:  \n"
     ]
    }
   ],
   "source": [
    "for x in dir(m):\n",
    "    item = getattr(m, x)\n",
    "    if inspect.isfunction(item):\n",
    "        doc = item.__doc__\n",
    "         \n",
    "        if doc is not None:\n",
    "            doc0 = doc.split('\\n')[0]\n",
    "            print(f\"{item.__qualname__}:  {doc0}\")\n",
    "    \n",
    "    #[inspect.isfunction()for x in dir(m)]"
   ]
  },
  {
   "cell_type": "code",
   "execution_count": 92,
   "metadata": {},
   "outputs": [],
   "source": [
    "import openpyxl"
   ]
  },
  {
   "cell_type": "code",
   "execution_count": 93,
   "metadata": {},
   "outputs": [],
   "source": [
    "wb = openpyxl.Workbook()"
   ]
  },
  {
   "cell_type": "code",
   "execution_count": 94,
   "metadata": {},
   "outputs": [
    {
     "data": {
      "text/plain": [
       "['Sheet']"
      ]
     },
     "execution_count": 94,
     "metadata": {},
     "output_type": "execute_result"
    }
   ],
   "source": [
    "wb.sheetnames"
   ]
  },
  {
   "cell_type": "code",
   "execution_count": 95,
   "metadata": {},
   "outputs": [],
   "source": [
    "for sname in wb.sheetnames:\n",
    "    del wb[sname]"
   ]
  },
  {
   "cell_type": "code",
   "execution_count": 96,
   "metadata": {},
   "outputs": [],
   "source": [
    "ws = wb.create_sheet('Data')"
   ]
  },
  {
   "cell_type": "code",
   "execution_count": 97,
   "metadata": {},
   "outputs": [],
   "source": [
    "ws.sheet_properties.tabColor = '3366FF'\n"
   ]
  },
  {
   "cell_type": "code",
   "execution_count": 98,
   "metadata": {},
   "outputs": [],
   "source": [
    "for i, x in enumerate('abcdef'):\n",
    "    for j in range(2):\n",
    "        c = ws.cell(row = i + 1, column=j + 1)\n",
    "        c.value = \"{0}{1}\".format(x, j)\n"
   ]
  },
  {
   "cell_type": "code",
   "execution_count": null,
   "metadata": {},
   "outputs": [],
   "source": []
  },
  {
   "cell_type": "code",
   "execution_count": 99,
   "metadata": {},
   "outputs": [],
   "source": [
    "wb.save('doc.xlsx')"
   ]
  },
  {
   "cell_type": "code",
   "execution_count": null,
   "metadata": {},
   "outputs": [],
   "source": []
  }
 ],
 "metadata": {
  "kernelspec": {
   "display_name": "Python [default]",
   "language": "python",
   "name": "python3"
  },
  "language_info": {
   "codemirror_mode": {
    "name": "ipython",
    "version": 3
   },
   "file_extension": ".py",
   "mimetype": "text/x-python",
   "name": "python",
   "nbconvert_exporter": "python",
   "pygments_lexer": "ipython3",
   "version": "3.6.2"
  }
 },
 "nbformat": 4,
 "nbformat_minor": 2
}
