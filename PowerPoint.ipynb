{
 "cells": [
  {
   "cell_type": "code",
   "execution_count": 1,
   "metadata": {},
   "outputs": [],
   "source": [
    "from openpyxl import workbook, worksheet, load_workbook\n",
    "from openpyxl.styles import Fill, Font, Border"
   ]
  },
  {
   "cell_type": "code",
   "execution_count": 2,
   "metadata": {},
   "outputs": [],
   "source": [
    "wb = load_workbook('/Users/mrinal/Desktop/test_style.xlsx')"
   ]
  },
  {
   "cell_type": "code",
   "execution_count": 3,
   "metadata": {},
   "outputs": [
    {
     "data": {
      "text/plain": [
       "['Sheet1']"
      ]
     },
     "execution_count": 3,
     "metadata": {},
     "output_type": "execute_result"
    }
   ],
   "source": [
    "wb.sheetnames"
   ]
  },
  {
   "cell_type": "code",
   "execution_count": 5,
   "metadata": {},
   "outputs": [],
   "source": [
    "ws = wb['Sheet1']"
   ]
  },
  {
   "cell_type": "code",
   "execution_count": 10,
   "metadata": {},
   "outputs": [],
   "source": [
    "c = ws['A2']"
   ]
  },
  {
   "cell_type": "code",
   "execution_count": 14,
   "metadata": {},
   "outputs": [
    {
     "data": {
      "text/plain": [
       "<openpyxl.styles.borders.Border object>\n",
       "Parameters:\n",
       "outline=True, diagonalUp=False, diagonalDown=False, start=None, end=None, left=<openpyxl.styles.borders.Side object>\n",
       "Parameters:\n",
       "style=None, color=None, right=<openpyxl.styles.borders.Side object>\n",
       "Parameters:\n",
       "style=None, color=None, top=<openpyxl.styles.borders.Side object>\n",
       "Parameters:\n",
       "style=None, color=None, bottom=<openpyxl.styles.borders.Side object>\n",
       "Parameters:\n",
       "style='thin', color=<openpyxl.styles.colors.Color object>\n",
       "Parameters:\n",
       "rgb=None, indexed=None, auto=True, theme=None, tint=0.0, type='auto', diagonal=<openpyxl.styles.borders.Side object>\n",
       "Parameters:\n",
       "style=None, color=None, vertical=None, horizontal=None"
      ]
     },
     "execution_count": 14,
     "metadata": {},
     "output_type": "execute_result"
    }
   ],
   "source": [
    "c.border"
   ]
  },
  {
   "cell_type": "code",
   "execution_count": 46,
   "metadata": {},
   "outputs": [],
   "source": [
    "import pptx\n",
    "from pptx.util import Inches, Pt"
   ]
  },
  {
   "cell_type": "code",
   "execution_count": 88,
   "metadata": {},
   "outputs": [],
   "source": [
    "l1 = Inches(1)\n",
    "l2 = Pt(12)"
   ]
  },
  {
   "cell_type": "code",
   "execution_count": 90,
   "metadata": {},
   "outputs": [
    {
     "data": {
      "text/plain": [
       "914400"
      ]
     },
     "execution_count": 90,
     "metadata": {},
     "output_type": "execute_result"
    }
   ],
   "source": [
    "l1.emu"
   ]
  },
  {
   "cell_type": "code",
   "execution_count": 98,
   "metadata": {},
   "outputs": [
    {
     "data": {
      "text/plain": [
       "6.5"
      ]
     },
     "execution_count": 98,
     "metadata": {},
     "output_type": "execute_result"
    }
   ],
   "source": [
    "sum(row_heights)/l1.emu"
   ]
  },
  {
   "cell_type": "code",
   "execution_count": 103,
   "metadata": {},
   "outputs": [],
   "source": [
    "n_funds = 11\n",
    "n_factors = 30\n",
    "\n",
    "t_height = Inches(6.5)\n",
    "header_heights = [Pt(12), Pt(12)] \n",
    "row_height = t_height - sum([h.emu for h in header_heights])\n",
    "row_height = [row_height/n_factors]*n_factors\n",
    "row_heights = header_heights + row_height\n",
    "row_heights = [int(x) for x in row_heights]\n",
    "\n",
    "t_width = Inches(9)\n",
    "index_widths = [Inches(0.25), Inches(0.75)]\n",
    "col_width = t_width - sum([w.emu for w in index_widths])\n",
    "col_width = [col_width/n_funds]*n_funds\n",
    "col_widths = index_widths + col_width \n",
    "col_widths = [int(x) for x in col_widths]"
   ]
  },
  {
   "cell_type": "code",
   "execution_count": 126,
   "metadata": {},
   "outputs": [],
   "source": [
    "prs = pptx.Presentation('/Users/mrinal/Desktop/PresentationPython.pptx')\n",
    "sl = prs.slides.add_slide(prs.slide_layouts[6])\n",
    "\n",
    "gf = sl.shapes.add_table(n_factors + 2, n_funds + 2, \n",
    "                         Inches(0.5), Inches(0.5), \n",
    "                         sum(col_widths), sum(row_heights))\n",
    "t = gf.table\n",
    "\n",
    "for i, r in enumerate(t.rows):\n",
    "    r.height = row_heights[i]\n",
    "for j, c in enumerate(t.columns):\n",
    "    c.width = col_widths[j]\n",
    "\n",
    "for i, r in enumerate(t.rows):\n",
    "    for c in r.cells:\n",
    "        c.text = 'x'\n",
    "        c.margin_left = 0\n",
    "        c.margin_right = 0\n",
    "        c.margin_top = 0\n",
    "        c.margin_bottom = 0\n",
    "        p = c.text_frame.paragraphs[0]\n",
    "        p.font.size = Pt(10)\n",
    "        p.font.color.rgb = RGBColor(0,0,0)\n",
    "        c.fill.solid()\n",
    "        c.fill.fore_color.rgb = RGBColor(255,128, 64)\n",
    "c1 = t.cell(0,0) \n",
    "c1._tc.set('rowSpan', '2')\n",
    "c2 = t.cell(1,0)\n",
    "c2._tc.set('vMerge', '1')\n",
    "prs.save('/Users/mrinal/Desktop/presy1.pptx')"
   ]
  },
  {
   "cell_type": "code",
   "execution_count": 124,
   "metadata": {},
   "outputs": [
    {
     "data": {
      "text/plain": [
       "<pptx.shapes.table._Cell at 0x10e4b5dd8>"
      ]
     },
     "execution_count": 124,
     "metadata": {},
     "output_type": "execute_result"
    }
   ],
   "source": [
    "t.cell(0,0)"
   ]
  },
  {
   "cell_type": "code",
   "execution_count": 118,
   "metadata": {},
   "outputs": [
    {
     "data": {
      "text/plain": [
       "(187960, 88900)"
      ]
     },
     "execution_count": 118,
     "metadata": {},
     "output_type": "execute_result"
    }
   ],
   "source": [
    "row_heights[-1], Pt(7).emu"
   ]
  },
  {
   "cell_type": "code",
   "execution_count": 79,
   "metadata": {},
   "outputs": [],
   "source": [
    "tb = sl.shapes.add_textbox(Inches(3), Inches(0), Inches(3), Inches(3))"
   ]
  },
  {
   "cell_type": "code",
   "execution_count": 81,
   "metadata": {},
   "outputs": [],
   "source": [
    "#Creating text with formatting\n",
    "tb = sl.shapes.add_textbox(Inches(3), Inches(0), Inches(3), Inches(3))\n",
    "tb.text_frame.paragraphs[0].text = 'Hello my  name is Inigo Montoya'\n",
    "#for st in ['Prepare for it', 'What are you dong?']:\n",
    "para = tb.text_frame.add_paragraph()\n",
    "r = para.add_run()\n",
    "r.text = 'Prepare for it'\n",
    "r.font.name = 'Times New Roman'\n",
    "r.font.size = Pt(18)\n",
    "r.font.bold = True"
   ]
  },
  {
   "cell_type": "code",
   "execution_count": null,
   "metadata": {},
   "outputs": [],
   "source": []
  },
  {
   "cell_type": "code",
   "execution_count": 76,
   "metadata": {},
   "outputs": [],
   "source": [
    "p.font.size = Pt(24)"
   ]
  },
  {
   "cell_type": "code",
   "execution_count": 18,
   "metadata": {},
   "outputs": [],
   "source": [
    "from pptx import Presentation\n",
    "\n",
    "prs = Presentation()\n",
    "title_slide_layout = prs.slide_layouts[0]\n",
    "slide = prs.slides.add_slide(title_slide_layout)\n",
    "title = slide.shapes.title\n",
    "subtitle = slide.placeholders[1]\n",
    "\n",
    "title.text = \"Hello, World!\"\n",
    "subtitle.text = \"python-pptx was here!\"\n",
    "\n",
    "prs.save('test.pptx')"
   ]
  },
  {
   "cell_type": "code",
   "execution_count": null,
   "metadata": {},
   "outputs": [],
   "source": []
  },
  {
   "cell_type": "code",
   "execution_count": 59,
   "metadata": {},
   "outputs": [],
   "source": [
    "from pptx.dml.fill import FillFormat\n",
    "from pptx.dml.color import RGBColor"
   ]
  },
  {
   "cell_type": "code",
   "execution_count": null,
   "metadata": {},
   "outputs": [],
   "source": []
  },
  {
   "cell_type": "code",
   "execution_count": 43,
   "metadata": {},
   "outputs": [
    {
     "name": "stdout",
     "output_type": "stream",
     "text": [
      "Title Slide\n",
      "This layout has 5 placeholders.\n",
      "     Title 1  : Click to edit Master title style\n",
      "     Subtitle 2  : Click to edit Master subtitle style\n",
      "     Date Placeholder 3  : 11/10/17\n",
      "     Footer Placeholder 4  : \n",
      "     Slide Number Placeholder 5  : ‹#›\n",
      "Title and Content\n",
      "This layout has 5 placeholders.\n",
      "     Title 1  : Click to edit Master title style\n",
      "     Content Placeholder 2  : Click to edit Master text styles\n",
      "Second level\n",
      "Third level\n",
      "Fourth level\n",
      "Fifth level\n",
      "     Date Placeholder 3  : 11/10/17\n",
      "     Footer Placeholder 4  : \n",
      "     Slide Number Placeholder 5  : ‹#›\n",
      "Section Header\n",
      "This layout has 5 placeholders.\n",
      "     Title 1  : Click to edit Master title style\n",
      "     Text Placeholder 2  : Click to edit Master text styles\n",
      "     Date Placeholder 3  : 11/10/17\n",
      "     Footer Placeholder 4  : \n",
      "     Slide Number Placeholder 5  : ‹#›\n",
      "Two Content\n",
      "This layout has 6 placeholders.\n",
      "     Title 1  : Click to edit Master title style\n",
      "     Content Placeholder 2  : Click to edit Master text styles\n",
      "Second level\n",
      "Third level\n",
      "Fourth level\n",
      "Fifth level\n",
      "     Content Placeholder 3  : Click to edit Master text styles\n",
      "Second level\n",
      "Third level\n",
      "Fourth level\n",
      "Fifth level\n",
      "     Date Placeholder 4  : 11/10/17\n",
      "     Footer Placeholder 5  : \n",
      "     Slide Number Placeholder 6  : ‹#›\n",
      "Comparison\n",
      "This layout has 8 placeholders.\n",
      "     Title 1  : Click to edit Master title style\n",
      "     Text Placeholder 2  : Click to edit Master text styles\n",
      "     Content Placeholder 3  : Click to edit Master text styles\n",
      "Second level\n",
      "Third level\n",
      "Fourth level\n",
      "Fifth level\n",
      "     Text Placeholder 4  : Click to edit Master text styles\n",
      "     Content Placeholder 5  : Click to edit Master text styles\n",
      "Second level\n",
      "Third level\n",
      "Fourth level\n",
      "Fifth level\n",
      "     Date Placeholder 6  : 11/10/17\n",
      "     Footer Placeholder 7  : \n",
      "     Slide Number Placeholder 8  : ‹#›\n",
      "Title Only\n",
      "This layout has 4 placeholders.\n",
      "     Title 1  : Click to edit Master title style\n",
      "     Date Placeholder 2  : 11/10/17\n",
      "     Footer Placeholder 3  : \n",
      "     Slide Number Placeholder 4  : ‹#›\n",
      "Blank\n",
      "This layout has 3 placeholders.\n",
      "     Date Placeholder 1  : 11/10/17\n",
      "     Footer Placeholder 2  : \n",
      "     Slide Number Placeholder 3  : ‹#›\n",
      "Content with Caption\n",
      "This layout has 6 placeholders.\n",
      "     Title 1  : Click to edit Master title style\n",
      "     Content Placeholder 2  : Click to edit Master text styles\n",
      "Second level\n",
      "Third level\n",
      "Fourth level\n",
      "Fifth level\n",
      "     Text Placeholder 3  : Click to edit Master text styles\n",
      "     Date Placeholder 4  : 11/10/17\n",
      "     Footer Placeholder 5  : \n",
      "     Slide Number Placeholder 6  : ‹#›\n",
      "Picture with Caption\n",
      "This layout has 6 placeholders.\n",
      "     Title 1  : Click to edit Master title style\n",
      "     Picture Placeholder 2  : \n",
      "     Text Placeholder 3  : Click to edit Master text styles\n",
      "     Date Placeholder 4  : 11/10/17\n",
      "     Footer Placeholder 5  : \n",
      "     Slide Number Placeholder 6  : ‹#›\n",
      "Title and Vertical Text\n",
      "This layout has 5 placeholders.\n",
      "     Title 1  : Click to edit Master title style\n",
      "     Vertical Text Placeholder 2  : Click to edit Master text styles\n",
      "Second level\n",
      "Third level\n",
      "Fourth level\n",
      "Fifth level\n",
      "     Date Placeholder 3  : 11/10/17\n",
      "     Footer Placeholder 4  : \n",
      "     Slide Number Placeholder 5  : ‹#›\n",
      "Vertical Title and Text\n",
      "This layout has 5 placeholders.\n",
      "     Vertical Title 1  : Click to edit Master title style\n",
      "     Vertical Text Placeholder 2  : Click to edit Master text styles\n",
      "Second level\n",
      "Third level\n",
      "Fourth level\n",
      "Fifth level\n",
      "     Date Placeholder 3  : 11/10/17\n",
      "     Footer Placeholder 4  : \n",
      "     Slide Number Placeholder 5  : ‹#›\n"
     ]
    }
   ],
   "source": [
    "for s in prs.slide_layouts:\n",
    "    print(s.name)\n",
    "    print(\"This layout has {0} placeholders.\".format(len(s.placeholders)))\n",
    "    for ph in s.placeholders:\n",
    "        print(\"     {0}  : {1}\".format(ph.name, ph.text))"
   ]
  },
  {
   "cell_type": "code",
   "execution_count": 44,
   "metadata": {},
   "outputs": [
    {
     "data": {
      "text/plain": [
       "<pptx.shapes.placeholder.LayoutPlaceholder at 0x10e23f3c8>"
      ]
     },
     "execution_count": 44,
     "metadata": {},
     "output_type": "execute_result"
    }
   ],
   "source": [
    "s.placeholders[0]"
   ]
  },
  {
   "cell_type": "code",
   "execution_count": 45,
   "metadata": {},
   "outputs": [
    {
     "data": {
      "text/plain": [
       "'Vertical Title and Text'"
      ]
     },
     "execution_count": 45,
     "metadata": {},
     "output_type": "execute_result"
    }
   ],
   "source": [
    "s.name"
   ]
  },
  {
   "cell_type": "code",
   "execution_count": null,
   "metadata": {},
   "outputs": [],
   "source": []
  }
 ],
 "metadata": {
  "kernelspec": {
   "display_name": "Python 3",
   "language": "python",
   "name": "python3"
  },
  "language_info": {
   "codemirror_mode": {
    "name": "ipython",
    "version": 3
   },
   "file_extension": ".py",
   "mimetype": "text/x-python",
   "name": "python",
   "nbconvert_exporter": "python",
   "pygments_lexer": "ipython3",
   "version": "3.6.2"
  }
 },
 "nbformat": 4,
 "nbformat_minor": 2
}
